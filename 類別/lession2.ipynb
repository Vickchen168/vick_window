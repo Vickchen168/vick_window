{
 "cells": [
  {
   "cell_type": "code",
   "execution_count": 20,
   "metadata": {},
   "outputs": [
    {
     "name": "stdout",
     "output_type": "stream",
     "text": [
      "<class '__main__.Person'>\n",
      "p1.name=陳明勝\n",
      "p2.name=Vick Chen\n",
      "p3.name=VC\n"
     ]
    }
   ],
   "source": [
    "class Person():\n",
    "    def __init__(self,n:str):\n",
    "        self.name = n\n",
    "    \n",
    "\n",
    "p1:Person = Person(\"陳明勝\")\n",
    "print(type(p1))\n",
    "print(f\"p1.name={p1.name}\")\n",
    "\n",
    "p2:Person=Person(\"Vick Chen\")\n",
    "p2.name\n",
    "print(f\"p2.name={p2.name}\")\n",
    "\n",
    "p3 = Person(\"VC\")\n",
    "print(f\"p3.name={p3.name}\")\n"
   ]
  },
  {
   "cell_type": "code",
   "execution_count": null,
   "metadata": {},
   "outputs": [],
   "source": [
    "class Student(Person):\n",
    "    def __init__(self):\n",
    "        pass\n",
    "\n",
    "s1 = Student()"
   ]
  }
 ],
 "metadata": {
  "kernelspec": {
   "display_name": "venv1",
   "language": "python",
   "name": "python3"
  },
  "language_info": {
   "codemirror_mode": {
    "name": "ipython",
    "version": 3
   },
   "file_extension": ".py",
   "mimetype": "text/x-python",
   "name": "python",
   "nbconvert_exporter": "python",
   "pygments_lexer": "ipython3",
   "version": "3.10.14"
  }
 },
 "nbformat": 4,
 "nbformat_minor": 2
}
