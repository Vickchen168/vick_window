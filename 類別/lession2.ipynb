{
 "cells": [
  {
   "cell_type": "code",
   "execution_count": 85,
   "metadata": {},
   "outputs": [
    {
     "name": "stdout",
     "output_type": "stream",
     "text": [
      "<class '__main__.Person'>\n",
      "p1.name=陳明勝\n",
      "p2.name=Vick Chen\n",
      "p3.name=VC\n"
     ]
    }
   ],
   "source": [
    "class Person():\n",
    "    def __init__(self,n:str):\n",
    "        self.name = n\n",
    "    def __repr__(self):\n",
    "        return f\"我是Person的實體,我的名字是:{self.name}\"\n",
    "        \n",
    "p1:Person = Person(\"陳明勝\")\n",
    "print(type(p1))\n",
    "print(f\"p1.name={p1.name}\")\n",
    "\n",
    "p2:Person=Person(\"Vick Chen\")\n",
    "p2.name\n",
    "print(f\"p2.name={p2.name}\")\n",
    "\n",
    "p3 = Person(\"VC\")\n",
    "print(f\"p3.name={p3.name}\")\n"
   ]
  },
  {
   "cell_type": "code",
   "execution_count": 79,
   "metadata": {},
   "outputs": [
    {
     "name": "stdout",
     "output_type": "stream",
     "text": [
      "陳明勝\n",
      "Vick Chen\n"
     ]
    }
   ],
   "source": [
    "class Student(Person):\n",
    "    def __init__(self,name:str,chinese:int,english:int,math:int):\n",
    "        super().__init__(n=name)\n",
    "        self.__chinese = chinese\n",
    "        self.__english = english\n",
    "        self.__math = math\n",
    "\n",
    "    @property\n",
    "    def chinese(self):\n",
    "        return self.__chinese\n",
    "    \n",
    "    @property\n",
    "    def english(self):\n",
    "        return self.__english\n",
    "    \n",
    "    @property\n",
    "    def math(self):\n",
    "        return self.__math\n",
    "    \n",
    "    @property\n",
    "    def scores(self):\n",
    "        return self.__chinese + self.__english + self.math\n",
    "    \n",
    "    #自訂實體的方法(method)\n",
    "    def average(self):\n",
    "        return self.scores/3\n",
    "\n",
    "\n",
    "    def __repr__(self):\n",
    "        message = f\"我是Student的實體,我的名字是:{self.name}\\n\"\n",
    "        message += f\"國文分數:{self.chinese}\\n\"\n",
    "        message += f\"英文分數:{self.english}\\n\"\n",
    "        message += f\"數學分數:{self.math}\\n\"\n",
    "        return message\n",
    "    \n",
    "\n",
    "s1:Student = Student(name=\"陳明勝\",chinese=89,english=80,math=99)\n",
    "print(s1.name)\n",
    "\n",
    "\n",
    "s2:Student = Student(name=\"Vick Chen\",chinese=88,english=90,math=100)\n",
    "print(s2.name)\n"
   ]
  },
  {
   "cell_type": "code",
   "execution_count": 84,
   "metadata": {},
   "outputs": [
    {
     "name": "stdout",
     "output_type": "stream",
     "text": [
      "我是Student的實體,我的名字是:陳明勝\n",
      "國文分數:89\n",
      "英文分數:80\n",
      "數學分數:99\n",
      "\n",
      "總分:268\n",
      "平均:89.33\n"
     ]
    }
   ],
   "source": [
    "#attribute是可以更改內容的\n",
    "#property可以設定只可讀，不能改，變數前要加\"__\"\n",
    "# s1.chinese=100\n",
    "# s1.english=100\n",
    "# s1.math=100\n",
    "print(s1)\n",
    "print(f\"總分:{s1.scores}\") #property\n",
    "print(f\"平均:{s1.average():.2f}\") #method\n",
    "#自訂實體的方法(method)"
   ]
  }
 ],
 "metadata": {
  "kernelspec": {
   "display_name": "venv1",
   "language": "python",
   "name": "python3"
  },
  "language_info": {
   "codemirror_mode": {
    "name": "ipython",
    "version": 3
   },
   "file_extension": ".py",
   "mimetype": "text/x-python",
   "name": "python",
   "nbconvert_exporter": "python",
   "pygments_lexer": "ipython3",
   "version": "3.10.14"
  }
 },
 "nbformat": 4,
 "nbformat_minor": 2
}
