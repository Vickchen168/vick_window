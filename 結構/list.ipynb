{
 "cells": [
  {
   "cell_type": "code",
   "execution_count": 2,
   "metadata": {},
   "outputs": [
    {
     "name": "stdout",
     "output_type": "stream",
     "text": [
      "5\n",
      "[2, 4, 6, 8, 10, 12]\n"
     ]
    }
   ],
   "source": [
    "l1 = [2,4,6,8,10]\n",
    "#查元素的數量\n",
    "print(len(l1))\n",
    "\n",
    "#哪一個Class建立的實體(資料類型)\n",
    "type(l1)\n",
    "\n",
    "l1.append(12)\n",
    "print(l1)"
   ]
  },
  {
   "cell_type": "code",
   "execution_count": 3,
   "metadata": {},
   "outputs": [
    {
     "name": "stdout",
     "output_type": "stream",
     "text": [
      "[2, 4, 6, 8, 10]\n"
     ]
    }
   ],
   "source": [
    "#刪除最後一筆\n",
    "l1.pop()\n",
    "print(l1)"
   ]
  },
  {
   "cell_type": "code",
   "execution_count": 41,
   "metadata": {},
   "outputs": [
    {
     "name": "stdout",
     "output_type": "stream",
     "text": [
      "2 4 6 8 10\n",
      "不知名的錯誤list index out of range\n"
     ]
    }
   ],
   "source": [
    "print(l1[0],end=\" \")\n",
    "print(l1[1],end=\" \")\n",
    "print(l1[2],end=\" \")\n",
    "print(l1[3],end=\" \")\n",
    "print(l1[4])\n",
    "try:\n",
    "    print(l1[5])\n",
    "except IndexError: #明確的錯誤寫在上面\n",
    "    print(\"索引編號超出範圍\")\n",
    "except Exception as e:\n",
    "    print(f\"不知名的錯誤{e}\")\n"
   ]
  },
  {
   "cell_type": "code",
   "execution_count": 7,
   "metadata": {},
   "outputs": [
    {
     "name": "stdout",
     "output_type": "stream",
     "text": [
      "2\n",
      "4\n",
      "6\n",
      "8\n",
      "10\n"
     ]
    }
   ],
   "source": [
    "\n",
    "for item in l1:\n",
    "    print (item)"
   ]
  },
  {
   "cell_type": "code",
   "execution_count": 13,
   "metadata": {},
   "outputs": [
    {
     "name": "stdout",
     "output_type": "stream",
     "text": [
      "0\n",
      "2\n",
      "==========\n",
      "1\n",
      "4\n",
      "==========\n",
      "2\n",
      "6\n",
      "==========\n",
      "3\n",
      "8\n",
      "==========\n",
      "4\n",
      "10\n",
      "==========\n"
     ]
    }
   ],
   "source": [
    "for index,value in enumerate(l1):\n",
    "    print(index)\n",
    "    print(value)\n",
    "    print(\"==========\")"
   ]
  },
  {
   "cell_type": "code",
   "execution_count": 12,
   "metadata": {},
   "outputs": [
    {
     "name": "stdout",
     "output_type": "stream",
     "text": [
      "0\n",
      "2\n"
     ]
    }
   ],
   "source": [
    "#tuple的拆解法，暫時的包裹\n",
    "(index,value) = 0,2\n",
    "print(index)\n",
    "print(value)"
   ]
  },
  {
   "cell_type": "code",
   "execution_count": 35,
   "metadata": {},
   "outputs": [
    {
     "name": "stdout",
     "output_type": "stream",
     "text": [
      "R\n",
      "o\n",
      "b\n",
      "e\n",
      "r\n",
      "t\n",
      " \n",
      "H\n",
      "s\n",
      "u\n"
     ]
    }
   ],
   "source": [
    "name:str = \"Robert Hsu\"\n",
    "for word in name:\n",
    "    print(word)"
   ]
  },
  {
   "cell_type": "code",
   "execution_count": 36,
   "metadata": {},
   "outputs": [
    {
     "data": {
      "text/plain": [
       "'R'"
      ]
     },
     "execution_count": 36,
     "metadata": {},
     "output_type": "execute_result"
    }
   ],
   "source": [
    "#[index]\n",
    "name[0]"
   ]
  },
  {
   "cell_type": "code",
   "execution_count": 37,
   "metadata": {},
   "outputs": [
    {
     "name": "stdout",
     "output_type": "stream",
     "text": [
      "Robert\n",
      "Robert\n"
     ]
    }
   ],
   "source": [
    "print(name[0:6])\n",
    "print(name[:6]) #前4個"
   ]
  },
  {
   "cell_type": "code",
   "execution_count": 40,
   "metadata": {},
   "outputs": [
    {
     "name": "stdout",
     "output_type": "stream",
     "text": [
      "Hs\n",
      "Hsu\n"
     ]
    }
   ],
   "source": [
    "#[slice]\n",
    "print(name[-3:-1])\n",
    "print(name[-3:]) #取最後三個"
   ]
  }
 ],
 "metadata": {
  "kernelspec": {
   "display_name": "venv1",
   "language": "python",
   "name": "python3"
  },
  "language_info": {
   "codemirror_mode": {
    "name": "ipython",
    "version": 3
   },
   "file_extension": ".py",
   "mimetype": "text/x-python",
   "name": "python",
   "nbconvert_exporter": "python",
   "pygments_lexer": "ipython3",
   "version": "3.10.14"
  }
 },
 "nbformat": 4,
 "nbformat_minor": 2
}
