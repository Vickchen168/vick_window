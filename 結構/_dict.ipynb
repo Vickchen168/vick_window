{
 "cells": [
  {
   "cell_type": "code",
   "execution_count": 8,
   "metadata": {},
   "outputs": [
    {
     "name": "stdout",
     "output_type": "stream",
     "text": [
      "<class 'dict'>\n",
      "{'one': 1, 'two': 2, 'three': 3}\n",
      "3\n"
     ]
    }
   ],
   "source": [
    "# 建立 dict\n",
    "d1:dict={\"one\":1, #key=one, value=1\n",
    "        \"two\":2,\n",
    "        \"three\":3}\n",
    "# 檢查型別\n",
    "print(type(d1))\n",
    "\n",
    "print(d1)\n",
    "\n",
    "#檢查元素數量\n",
    "print(len(d1))"
   ]
  },
  {
   "cell_type": "code",
   "execution_count": 9,
   "metadata": {},
   "outputs": [
    {
     "name": "stdout",
     "output_type": "stream",
     "text": [
      "1\n",
      "2\n",
      "3\n"
     ]
    }
   ],
   "source": [
    "#subscript[key]\n",
    "print(d1[\"one\"])\n",
    "print(d1[\"two\"])\n",
    "print(d1[\"three\"])"
   ]
  },
  {
   "cell_type": "code",
   "execution_count": 19,
   "metadata": {},
   "outputs": [
    {
     "name": "stdout",
     "output_type": "stream",
     "text": [
      "key = one\n",
      "value = 1\n",
      "============\n",
      "key = two\n",
      "value = 2\n",
      "============\n",
      "key = three\n",
      "value = 3\n",
      "============\n"
     ]
    }
   ],
   "source": [
    "# 整合for in 迴圈\n",
    "for key in d1:\n",
    "    print(f\"key = {key}\")\n",
    "    print(f\"value = {d1[key]}\")\n",
    "    print(\"============\")"
   ]
  },
  {
   "cell_type": "code",
   "execution_count": 41,
   "metadata": {},
   "outputs": [
    {
     "name": "stdout",
     "output_type": "stream",
     "text": [
      "{'one': 1, 'two': 2, 'three': 3, 'four': 4, 'five': 5}\n"
     ]
    }
   ],
   "source": [
    "d1['four'] = 4\n",
    "d1['five'] = 5\n",
    "print(d1)"
   ]
  },
  {
   "cell_type": "code",
   "execution_count": 48,
   "metadata": {},
   "outputs": [
    {
     "name": "stdout",
     "output_type": "stream",
     "text": [
      "{'one': 1, 'two': 2, 'three': 3}\n"
     ]
    }
   ],
   "source": [
    "#刪除元素\n",
    "if 'four' in d1:\n",
    "    del d1['four']\n",
    "\n",
    "if 'five' in d1:\n",
    "    del d1['five']\n",
    "\n",
    "print(d1)"
   ]
  },
  {
   "cell_type": "code",
   "execution_count": 44,
   "metadata": {},
   "outputs": [
    {
     "name": "stdout",
     "output_type": "stream",
     "text": [
      "one\n",
      "two\n",
      "three\n"
     ]
    }
   ],
   "source": [
    "#keys(),values(),items() 實體方法\n",
    "for key in d1.keys():\n",
    "    print(key) "
   ]
  },
  {
   "cell_type": "code",
   "execution_count": 45,
   "metadata": {},
   "outputs": [
    {
     "name": "stdout",
     "output_type": "stream",
     "text": [
      "1\n",
      "2\n",
      "3\n"
     ]
    }
   ],
   "source": [
    "for value in d1.values():\n",
    "    print(value)\n"
   ]
  },
  {
   "cell_type": "code",
   "execution_count": 47,
   "metadata": {},
   "outputs": [
    {
     "name": "stdout",
     "output_type": "stream",
     "text": [
      "one\n",
      "1\n",
      "=============\n",
      "two\n",
      "2\n",
      "=============\n",
      "three\n",
      "3\n",
      "=============\n"
     ]
    }
   ],
   "source": [
    "for key,value in d1.items():\n",
    "    print(key)\n",
    "    print(value)\n",
    "    print(\"=============\")"
   ]
  },
  {
   "cell_type": "code",
   "execution_count": null,
   "metadata": {},
   "outputs": [],
   "source": []
  }
 ],
 "metadata": {
  "kernelspec": {
   "display_name": "venv1",
   "language": "python",
   "name": "python3"
  },
  "language_info": {
   "codemirror_mode": {
    "name": "ipython",
    "version": 3
   },
   "file_extension": ".py",
   "mimetype": "text/x-python",
   "name": "python",
   "nbconvert_exporter": "python",
   "pygments_lexer": "ipython3",
   "version": "3.10.14"
  }
 },
 "nbformat": 4,
 "nbformat_minor": 2
}
