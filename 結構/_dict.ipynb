{
 "cells": [
  {
   "cell_type": "code",
   "execution_count": 8,
   "metadata": {},
   "outputs": [
    {
     "name": "stdout",
     "output_type": "stream",
     "text": [
      "<class 'dict'>\n",
      "{'one': 1, 'two': 2, 'three': 3}\n",
      "3\n"
     ]
    }
   ],
   "source": [
    "# 建立 dict\n",
    "d1:dict={\"one\":1, #key=one, value=1\n",
    "        \"two\":2,\n",
    "        \"three\":3}\n",
    "# 檢查型別\n",
    "print(type(d1))\n",
    "\n",
    "print(d1)\n",
    "\n",
    "#檢查元素數量\n",
    "print(len(d1))"
   ]
  },
  {
   "cell_type": "code",
   "execution_count": 9,
   "metadata": {},
   "outputs": [
    {
     "name": "stdout",
     "output_type": "stream",
     "text": [
      "1\n",
      "2\n",
      "3\n"
     ]
    }
   ],
   "source": [
    "#subscript[key]\n",
    "print(d1[\"one\"])\n",
    "print(d1[\"two\"])\n",
    "print(d1[\"three\"])"
   ]
  },
  {
   "cell_type": "code",
   "execution_count": 14,
   "metadata": {},
   "outputs": [
    {
     "name": "stdout",
     "output_type": "stream",
     "text": [
      "key =one\n",
      "value=1\n",
      "=================\n",
      "key =two\n",
      "value=2\n",
      "=================\n",
      "key =three\n",
      "value=3\n",
      "=================\n"
     ]
    }
   ],
   "source": [
    "# 整合for in 迴圈\n",
    "for key in d1:\n",
    "    print(f\"key ={key}\")\n",
    "    print(f\"value={d1[key]}\")\n",
    "    print(\"=================\")"
   ]
  },
  {
   "cell_type": "code",
   "execution_count": null,
   "metadata": {},
   "outputs": [],
   "source": []
  }
 ],
 "metadata": {
  "kernelspec": {
   "display_name": "venv1",
   "language": "python",
   "name": "python3"
  },
  "language_info": {
   "codemirror_mode": {
    "name": "ipython",
    "version": 3
   },
   "file_extension": ".py",
   "mimetype": "text/x-python",
   "name": "python",
   "nbconvert_exporter": "python",
   "pygments_lexer": "ipython3",
   "version": "3.10.14"
  }
 },
 "nbformat": 4,
 "nbformat_minor": 2
}
