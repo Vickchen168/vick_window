{
 "cells": [
  {
   "cell_type": "code",
   "execution_count": 1,
   "metadata": {},
   "outputs": [
    {
     "data": {
      "text/plain": [
       "{1, 2, 3}"
      ]
     },
     "execution_count": 1,
     "metadata": {},
     "output_type": "execute_result"
    }
   ],
   "source": [
<<<<<<< HEAD
    "# 集合 set()無順序，attribute、property、method。\n",
    "# 元素內容不可重複\n",
    "s1 = {1,1,2,2,3,3}\n",
=======
    "s1:set = {1,1,2,2,3,3}\n",
>>>>>>> 5d2ca4cf538c266379030768ad1d25ccc68b8964
    "s1"
   ]
  },
  {
   "cell_type": "code",
<<<<<<< HEAD
   "execution_count": 5,
=======
   "execution_count": 3,
>>>>>>> 5d2ca4cf538c266379030768ad1d25ccc68b8964
   "metadata": {},
   "outputs": [
    {
     "data": {
      "text/plain": [
       "{1, 2, 3}"
      ]
     },
<<<<<<< HEAD
     "execution_count": 5,
=======
     "execution_count": 3,
>>>>>>> 5d2ca4cf538c266379030768ad1d25ccc68b8964
     "metadata": {},
     "output_type": "execute_result"
    }
   ],
   "source": [
    "s2:set = set()\n",
    "s2.add(1)\n",
    "s2.add(1)\n",
    "s2.add(2)\n",
    "s2.add(2)\n",
    "s2.add(3)\n",
    "s2.add(3)\n",
    "s2"
   ]
  },
  {
   "cell_type": "code",
<<<<<<< HEAD
   "execution_count": 6,
=======
   "execution_count": 5,
>>>>>>> 5d2ca4cf538c266379030768ad1d25ccc68b8964
   "metadata": {},
   "outputs": [
    {
     "data": {
      "text/plain": [
       "{1, 2, 3, 4, 5, 6}"
      ]
     },
<<<<<<< HEAD
=======
     "execution_count": 5,
     "metadata": {},
     "output_type": "execute_result"
    }
   ],
   "source": [
    "s3:set = {1,2,3,4}\n",
    "s4:set = {3,4,5,6}\n",
    "u1:set = s3.union(s4)\n",
    "u1"
   ]
  },
  {
   "cell_type": "code",
   "execution_count": 6,
   "metadata": {},
   "outputs": [
    {
     "data": {
      "text/plain": [
       "{3, 4}"
      ]
     },
>>>>>>> 5d2ca4cf538c266379030768ad1d25ccc68b8964
     "execution_count": 6,
     "metadata": {},
     "output_type": "execute_result"
    }
   ],
   "source": [
    "s3:set = {1,2,3,4}\n",
    "s4:set = {3,4,5,6}\n",
<<<<<<< HEAD
    "u1:set = s3.union(s4)"
   ]
  },
  {
   "cell_type": "code",
   "execution_count": 7,
   "metadata": {},
   "outputs": [
    {
     "data": {
      "text/plain": [
       "{3, 4}"
      ]
     },
     "execution_count": 7,
     "metadata": {},
     "output_type": "execute_result"
    }
   ],
   "source": [
    "s3:set = {1,2,3,4}\n",
    "s4:set = {3,4,5,6}\n",
    "i1:set = s3.intersection(s4)\n",
    "i1"
   ]
  },
  {
   "cell_type": "code",
   "execution_count": 18,
   "metadata": {},
   "outputs": [
    {
     "name": "stdout",
     "output_type": "stream",
     "text": [
      "{1, 2}\n",
      "{5, 6}\n"
     ]
    }
   ],
   "source": [
    "s3:set = {1,2,3,4}\n",
    "s4:set = {3,4,5,6}\n",
    "d1:set = s3.difference(s4)\n",
    "d2:set = s4.difference(s3)\n",
    "print(d1)\n",
    "print(d2)"
   ]
  },
  {
   "cell_type": "code",
   "execution_count": 73,
   "metadata": {},
   "outputs": [
    {
     "data": {
      "text/plain": [
       "[8, 11, 19, 26, 43, 47, 49]"
      ]
     },
     "execution_count": 73,
     "metadata": {},
     "output_type": "execute_result"
    }
   ],
   "source": [
    "# 大樂透自動選號 程式以亂數1-49選出7個不重複號碼\n",
    "import random\n",
    "lot:set = set()\n",
    "\n",
    "while len(lot) < 7:\n",
    "    lot.add(random.randint(1,49))\n",
    "\n",
    "lot_list:list[int] = list(lot)\n",
    "lot_list.sort()  #由小到大排列\n",
    "# lot_list.sort(reverse=True) #由大到小排列\n",
    "\n",
    "lot_list\n"
   ]
  },
  {
   "cell_type": "code",
   "execution_count": null,
   "metadata": {},
   "outputs": [],
   "source": []
=======
    "i1:set = s3.intersection(s4)\n",
    "i1"
   ]
>>>>>>> 5d2ca4cf538c266379030768ad1d25ccc68b8964
  }
 ],
 "metadata": {
  "kernelspec": {
   "display_name": "venv1",
   "language": "python",
   "name": "python3"
  },
  "language_info": {
   "codemirror_mode": {
    "name": "ipython",
    "version": 3
   },
   "file_extension": ".py",
   "mimetype": "text/x-python",
   "name": "python",
   "nbconvert_exporter": "python",
   "pygments_lexer": "ipython3",
   "version": "3.10.14"
  }
 },
 "nbformat": 4,
 "nbformat_minor": 2
}
