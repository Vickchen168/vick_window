{
 "cells": [
  {
   "cell_type": "code",
   "execution_count": 1,
   "metadata": {},
   "outputs": [],
   "source": [
    "from pydantic import BaseModel\n",
    "\n",
    "class InventoryItem(BaseModel):\n",
    "    \"\"\"class for keeping track of an item in inventory.\"\"\"\n",
    "    name:str\n",
    "    unit_price: float\n",
    "    quantity_on_hand: int =0"
   ]
  },
  {
   "cell_type": "code",
   "execution_count": 6,
   "metadata": {},
   "outputs": [
    {
     "name": "stdout",
     "output_type": "stream",
     "text": [
      "name='手機殼' unit_price=150.5 quantity_on_hand=10\n"
     ]
    },
    {
     "data": {
      "text/plain": [
       "('手機殼', 150.5, 10)"
      ]
     },
     "execution_count": 6,
     "metadata": {},
     "output_type": "execute_result"
    }
   ],
   "source": [
    "# unit_price的字串，自動轉換為float\n",
    "item1=InventoryItem(name='手機殼',unit_price=150.5,quantity_on_hand='10')\n",
    "print(item1)\n",
    "\n",
    "(item1.name, item1.unit_price, item1.quantity_on_hand)\n",
    "\n",
    "\n",
    "# print(item1.name)\n",
    "# print(item1.unit_price)\n",
    "# print(item1.quantity_on_hand)"
   ]
  },
  {
   "cell_type": "code",
   "execution_count": 8,
   "metadata": {},
   "outputs": [
    {
     "name": "stdout",
     "output_type": "stream",
     "text": [
      "name='手機殼' unit_price=150.5 quantity_on_hand=15\n"
     ]
    }
   ],
   "source": [
    "# unit_price的字串，自動轉換為int失敗，需先手動轉換，raise ValidationError\n",
    "from pydantic import ValidationError\n",
    "try: \n",
    "    item1=InventoryItem(name='手機殼',unit_price=150.5,quantity_on_hand='15.5')\n",
    "    print(item1)\n",
    "except ValidationError as e:\n",
    "    print(e)\n"
   ]
  },
  {
   "cell_type": "code",
   "execution_count": null,
   "metadata": {},
   "outputs": [],
   "source": [
    "# unit_price的字串，自動轉換為int\n",
    "from pydantic import ValidationError\n",
    "try: \n",
    "    item1=InventoryItem(name='手機殼',unit_price=150.5,quantity_on_hand='15')\n",
    "    print(item1)\n",
    "except ValidationError as e:\n",
    "    print(e)"
   ]
  }
 ],
 "metadata": {
  "kernelspec": {
   "display_name": "venv1",
   "language": "python",
   "name": "python3"
  },
  "language_info": {
   "codemirror_mode": {
    "name": "ipython",
    "version": 3
   },
   "file_extension": ".py",
   "mimetype": "text/x-python",
   "name": "python",
   "nbconvert_exporter": "python",
   "pygments_lexer": "ipython3",
   "version": "3.10.14"
  }
 },
 "nbformat": 4,
 "nbformat_minor": 2
}
