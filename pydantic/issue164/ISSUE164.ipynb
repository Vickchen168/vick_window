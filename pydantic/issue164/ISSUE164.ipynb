{
 "cells": [
  {
   "cell_type": "code",
   "execution_count": 5,
   "metadata": {},
   "outputs": [],
   "source": [
    "with open('data.json', 'r') as data:\n",
    "    data = data.read()"
   ]
  },
  {
   "cell_type": "code",
   "execution_count": 7,
   "metadata": {},
   "outputs": [
    {
     "name": "stdout",
     "output_type": "stream",
     "text": [
      "{'name': 'Alice', 'age': 30, 'address': {'street': '123 Main St', 'city': 'Springfield', 'zipcode': '12345'}, 'projects': [{'name': 'Project A', 'status': 'completed'}, {'name': 'Project B', 'status': 'ongoing'}]}\n"
     ]
    }
   ],
   "source": [
    "from pydantic import BaseModel\n",
    "import json\n",
    "\n",
    "class Address(BaseModel):\n",
    "    street: str\n",
    "    city: str\n",
    "    zipcode: str\n",
    "\n",
    "class Project(BaseModel):\n",
    "    name: str\n",
    "    status: str\n",
    "\n",
    "class Person(BaseModel):\n",
    "    name: str\n",
    "    age: int\n",
    "    address: Address\n",
    "    projects: list[Project]\n",
    "\n",
    "person:Person = Person.model_validate_json(data)\n",
    "# 轉換成dict型別\n",
    "dict_data = person.model_dump()\n",
    "print(dict_data)\n",
    "\n",
    "# person:Person = Person.parse_raw(data)\n",
    "# person_dict = person.dict()\n",
    "# print(person_dict)"
   ]
  }
 ],
 "metadata": {
  "kernelspec": {
   "display_name": "venv1",
   "language": "python",
   "name": "python3"
  },
  "language_info": {
   "codemirror_mode": {
    "name": "ipython",
    "version": 3
   },
   "file_extension": ".py",
   "mimetype": "text/x-python",
   "name": "python",
   "nbconvert_exporter": "python",
   "pygments_lexer": "ipython3",
   "version": "3.10.14"
  }
 },
 "nbformat": 4,
 "nbformat_minor": 2
}
