{
 "cells": [
  {
   "cell_type": "code",
   "execution_count": null,
   "metadata": {},
   "outputs": [],
   "source": [
    "import requests\n",
    "from requests import Response\n",
    "aqi_url = 'https://data.moenv.gov.tw/api/v2/aqx_p_432?api_key=e8dd42e6-9b8b-43f8-991e-b3dee723a52d&limit=1000&sort=ImportDate desc&format=JSON'\n",
    "res:Response =requests.request('GET',aqi_url)\n",
    "if res.ok:\n",
    "    print(\"下載成功\")\n",
    "    print(res.text)\n",
    "else:\n",
    "    print(\"下載失敗\")"
   ]
  },
  {
   "cell_type": "code",
   "execution_count": 11,
   "metadata": {},
   "outputs": [
    {
     "data": {
      "text/plain": [
       "str"
      ]
     },
     "execution_count": 11,
     "metadata": {},
     "output_type": "execute_result"
    }
   ],
   "source": [
    "type(res.text)"
   ]
  },
  {
   "cell_type": "code",
   "execution_count": null,
   "metadata": {},
   "outputs": [],
   "source": [
    "json_data = res.json()\n",
    "sites:list = json_data['records']\n",
    "for site in sites:\n",
    "    print(site)"
   ]
  },
  {
   "cell_type": "code",
   "execution_count": 18,
   "metadata": {},
   "outputs": [
    {
     "name": "stdout",
     "output_type": "stream",
     "text": [
      "基隆 基隆市 27 良好\n",
      "汐止 新北市 46 良好\n",
      "萬里 新北市 36 良好\n",
      "新店 新北市 46 良好\n",
      "土城 新北市 62 普通\n",
      "板橋 新北市 49 良好\n",
      "新莊 新北市 59 普通\n",
      "菜寮 新北市 40 良好\n",
      "林口 新北市 36 良好\n",
      "淡水 新北市 52 普通\n",
      "士林 臺北市 42 良好\n",
      "中山 臺北市 37 良好\n",
      "萬華 臺北市 42 良好\n",
      "古亭 臺北市 34 良好\n",
      "松山 臺北市 44 良好\n",
      "大同 臺北市 55 普通\n",
      "桃園 桃園市 41 良好\n",
      "大園 桃園市 36 良好\n",
      "觀音 桃園市 45 良好\n",
      "平鎮 桃園市 33 良好\n",
      "龍潭 桃園市 30 良好\n",
      "湖口 新竹縣 46 良好\n",
      "竹東 新竹縣 31 良好\n",
      "新竹 新竹市 23 良好\n",
      "頭份 苗栗縣 21 良好\n",
      "苗栗 苗栗縣 20 良好\n",
      "三義 苗栗縣 23 良好\n",
      "豐原 臺中市 22 良好\n",
      "沙鹿 臺中市 21 良好\n",
      "大里 臺中市 19 良好\n",
      "忠明 臺中市 20 良好\n",
      "西屯 臺中市 23 良好\n",
      "彰化 彰化縣 19 良好\n",
      "線西 彰化縣 18 良好\n",
      "二林 彰化縣 28 良好\n",
      "南投 南投縣 26 良好\n",
      "斗六 雲林縣 18 良好\n",
      "崙背 雲林縣 19 良好\n",
      "新港 嘉義縣 22 良好\n",
      "朴子 嘉義縣 19 良好\n",
      "臺西 雲林縣 22 良好\n",
      "嘉義 嘉義市 22 良好\n",
      "新營 臺南市 21 良好\n",
      "善化 臺南市 19 良好\n",
      "安南 臺南市 19 良好\n",
      "臺南 臺南市 21 良好\n",
      "美濃 高雄市 18 良好\n",
      "橋頭 高雄市 16 良好\n",
      "仁武 高雄市 20 良好\n",
      "鳳山 高雄市 15 良好\n",
      "大寮 高雄市 16 良好\n",
      "林園 高雄市 26 良好\n",
      "楠梓 高雄市 24 良好\n",
      "左營 高雄市 28 良好\n",
      "前金 高雄市 17 良好\n",
      "前鎮 高雄市 15 良好\n",
      "小港 高雄市 37 良好\n",
      "屏東 屏東縣 19 良好\n",
      "潮州 屏東縣 19 良好\n",
      "恆春 屏東縣 24 良好\n",
      "臺東 臺東縣 22 良好\n",
      "花蓮 花蓮縣 16 良好\n",
      "陽明 臺北市 30 良好\n",
      "宜蘭 宜蘭縣 19 良好\n",
      "冬山 宜蘭縣 24 良好\n",
      "三重 新北市 60 普通\n",
      "中壢 桃園市 39 良好\n",
      "竹山 南投縣 27 良好\n",
      "永和 新北市 47 良好\n",
      "復興 高雄市 15 良好\n",
      "埔里 南投縣 22 良好\n",
      "馬祖 連江縣 54 普通\n",
      "金門 金門縣 85 普通\n",
      "馬公 澎湖縣 22 良好\n",
      "關山 臺東縣 20 良好\n",
      "麥寮 雲林縣 21 良好\n",
      "富貴角 新北市 50 良好\n",
      "大城 彰化縣 22 良好\n",
      "彰化（員林） 彰化縣 22 良好\n",
      "高雄（湖內） 高雄市 18 良好\n",
      "臺南（麻豆） 臺南市 23 良好\n",
      "屏東（琉球） 屏東縣 21 良好\n",
      "新北(樹林) 新北市 46 良好\n",
      "大甲（日南國小） 臺中市 17 良好\n",
      "屏東(枋山) 屏東縣 29 良好\n"
     ]
    }
   ],
   "source": [
    "for site in sites:\n",
    "    print(site['sitename'],site['county'],site['aqi'],site['status'])"
   ]
  }
 ],
 "metadata": {
  "kernelspec": {
   "display_name": "venv1",
   "language": "python",
   "name": "python3"
  },
  "language_info": {
   "codemirror_mode": {
    "name": "ipython",
    "version": 3
   },
   "file_extension": ".py",
   "mimetype": "text/x-python",
   "name": "python",
   "nbconvert_exporter": "python",
   "pygments_lexer": "ipython3",
   "version": "3.10.14"
  }
 },
 "nbformat": 4,
 "nbformat_minor": 2
}
