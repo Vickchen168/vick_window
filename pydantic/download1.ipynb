{
 "cells": [
  {
   "cell_type": "code",
   "execution_count": 1,
   "metadata": {},
   "outputs": [
    {
     "ename": "ModuleNotFoundError",
     "evalue": "No module named 'requests'",
     "output_type": "error",
     "traceback": [
      "\u001b[1;31m---------------------------------------------------------------------------\u001b[0m",
      "\u001b[1;31mModuleNotFoundError\u001b[0m                       Traceback (most recent call last)",
      "Cell \u001b[1;32mIn[1], line 1\u001b[0m\n\u001b[1;32m----> 1\u001b[0m \u001b[38;5;28;01mimport\u001b[39;00m \u001b[38;5;21;01mrequests\u001b[39;00m\n\u001b[0;32m      2\u001b[0m \u001b[38;5;28;01mfrom\u001b[39;00m \u001b[38;5;21;01mrequests\u001b[39;00m \u001b[38;5;28;01mimport\u001b[39;00m Response\n\u001b[0;32m      3\u001b[0m aqi_url \u001b[38;5;241m=\u001b[39m \u001b[38;5;124m'\u001b[39m\u001b[38;5;124mhttps://data.moenv.gov.tw/api/v2/aqx_p_432?api_key=e8dd42e6-9b8b-43f8-991e-b3dee723a52d&limit=1000&sort=ImportDate desc&format=JSON\u001b[39m\u001b[38;5;124m'\u001b[39m\n",
      "\u001b[1;31mModuleNotFoundError\u001b[0m: No module named 'requests'"
     ]
    }
   ],
   "source": [
    "import requests\n",
    "from requests import Response\n",
    "aqi_url = 'https://data.moenv.gov.tw/api/v2/aqx_p_432?api_key=e8dd42e6-9b8b-43f8-991e-b3dee723a52d&limit=1000&sort=ImportDate desc&format=JSON'\n",
    "try:\n",
    "    res:Response =requests.request('GET',aqi_url)\n",
    "except Exception as e:\n",
    "    print(e)\n",
    "    \n",
    "if res.ok:\n",
    "    print(\"下載成功\")\n",
    "    print(res.text)\n",
    "else:\n",
    "    print(\"下載失敗\")"
   ]
  },
  {
   "cell_type": "code",
   "execution_count": 11,
   "metadata": {},
   "outputs": [
    {
     "data": {
      "text/plain": [
       "str"
      ]
     },
     "execution_count": 11,
     "metadata": {},
     "output_type": "execute_result"
    }
   ],
   "source": [
    "type(res.text)"
   ]
  },
  {
   "cell_type": "code",
   "execution_count": null,
   "metadata": {},
   "outputs": [],
   "source": [
    "try:\n",
    "    json_data = res.json()\n",
    "except requests.exceptions.JSONDecodeError:\n",
    "    print(\"json格式部正確\")\n",
    "\n",
    "sites:list = json_data['records']\n",
    "for site in sites:\n",
    "    print(site)"
   ]
  },
  {
   "cell_type": "code",
   "execution_count": 22,
   "metadata": {},
   "outputs": [
    {
     "name": "stdout",
     "output_type": "stream",
     "text": [
      "基隆 基隆市 35 良好\n",
      "汐止 新北市 53 普通\n",
      "萬里 新北市 34 良好\n",
      "新店 新北市 55 普通\n",
      "土城 新北市 54 普通\n",
      "板橋 新北市 43 良好\n",
      "新莊 新北市 52 普通\n",
      "菜寮 新北市 47 良好\n",
      "林口 新北市 43 良好\n",
      "淡水 新北市 53 普通\n",
      "士林 臺北市 48 良好\n",
      "中山 臺北市 41 良好\n",
      "萬華 臺北市 49 良好\n",
      "古亭 臺北市 50 良好\n",
      "松山 臺北市 56 普通\n",
      "大同 臺北市 60 普通\n",
      "桃園 桃園市 35 良好\n",
      "大園 桃園市 38 良好\n",
      "觀音 桃園市 43 良好\n",
      "平鎮 桃園市 29 良好\n",
      "龍潭 桃園市 25 良好\n",
      "湖口 新竹縣 44 良好\n",
      "竹東 新竹縣 28 良好\n",
      "新竹 新竹市 21 良好\n",
      "頭份 苗栗縣 24 良好\n",
      "苗栗 苗栗縣 28 良好\n",
      "三義 苗栗縣 29 良好\n",
      "豐原 臺中市 29 良好\n",
      "沙鹿 臺中市 26 良好\n",
      "大里 臺中市 19 良好\n",
      "忠明 臺中市 20 良好\n",
      "西屯 臺中市 19 良好\n",
      "彰化 彰化縣 24 良好\n",
      "線西 彰化縣 22 良好\n",
      "二林 彰化縣 27 良好\n",
      "南投 南投縣 22 良好\n",
      "斗六 雲林縣 22 良好\n",
      "崙背 雲林縣 22 良好\n",
      "新港 嘉義縣 29 良好\n",
      "朴子 嘉義縣 21 良好\n",
      "臺西 雲林縣 24 良好\n",
      "嘉義 嘉義市 26 良好\n",
      "新營 臺南市 25 良好\n",
      "善化 臺南市 23 良好\n",
      "安南 臺南市 22 良好\n",
      "臺南 臺南市 22 良好\n",
      "美濃 高雄市 24 良好\n",
      "橋頭 高雄市 19 良好\n",
      "仁武 高雄市 24 良好\n",
      "鳳山 高雄市 18 良好\n",
      "大寮 高雄市 19 良好\n",
      "林園 高雄市 21 良好\n",
      "楠梓 高雄市 23 良好\n",
      "左營 高雄市 28 良好\n",
      "前金 高雄市 19 良好\n",
      "前鎮 高雄市 18 良好\n",
      "小港 高雄市 32 良好\n",
      "屏東 屏東縣 21 良好\n",
      "潮州 屏東縣 21 良好\n",
      "恆春 屏東縣 23 良好\n",
      "臺東 臺東縣 21 良好\n",
      "花蓮 花蓮縣 18 良好\n",
      "陽明 臺北市 34 良好\n",
      "宜蘭 宜蘭縣 28 良好\n",
      "冬山 宜蘭縣 26 良好\n",
      "三重 新北市 58 普通\n",
      "中壢 桃園市 38 良好\n",
      "竹山 南投縣 26 良好\n",
      "永和 新北市 53 普通\n",
      "復興 高雄市 18 良好\n",
      "埔里 南投縣 19 良好\n",
      "馬祖 連江縣 56 普通\n",
      "金門 金門縣 85 普通\n",
      "馬公 澎湖縣 24 良好\n",
      "關山 臺東縣 16 良好\n",
      "麥寮 雲林縣 24 良好\n",
      "富貴角 新北市 55 普通\n",
      "大城 彰化縣 25 良好\n",
      "彰化（員林） 彰化縣 27 良好\n",
      "高雄（湖內） 高雄市 17 良好\n",
      "臺南（麻豆） 臺南市 20 良好\n",
      "屏東（琉球） 屏東縣 24 良好\n",
      "新北(樹林) 新北市 43 良好\n",
      "大甲（日南國小） 臺中市 23 良好\n",
      "屏東(枋山) 屏東縣 36 良好\n"
     ]
    }
   ],
   "source": [
    "for site in sites:\n",
    "    print(site['sitename'],site['county'],site['aqi'],site['status'])"
   ]
  }
 ],
 "metadata": {
  "kernelspec": {
   "display_name": "venv1",
   "language": "python",
   "name": "python3"
  },
  "language_info": {
   "codemirror_mode": {
    "name": "ipython",
    "version": 3
   },
   "file_extension": ".py",
   "mimetype": "text/x-python",
   "name": "python",
   "nbconvert_exporter": "python",
   "pygments_lexer": "ipython3",
   "version": "3.10.14"
  }
 },
 "nbformat": 4,
 "nbformat_minor": 2
}
